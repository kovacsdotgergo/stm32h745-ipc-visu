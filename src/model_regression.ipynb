{
 "cells": [
  {
   "cell_type": "code",
   "execution_count": 1,
   "metadata": {},
   "outputs": [
    {
     "name": "stdout",
     "output_type": "stream",
     "text": [
      "The unconstrained solution is optimal.\n",
      "The unconstrained solution is optimal.\n",
      "The unconstrained solution is optimal.\n",
      "The unconstrained solution is optimal.\n",
      "The unconstrained solution is optimal.\n",
      "The unconstrained solution is optimal.\n",
      "The unconstrained solution is optimal.\n",
      "The unconstrained solution is optimal.\n",
      "The unconstrained solution is optimal.\n",
      "The unconstrained solution is optimal.\n",
      "The unconstrained solution is optimal.\n",
      "The unconstrained solution is optimal.\n",
      "The unconstrained solution is optimal.\n",
      "The unconstrained solution is optimal.\n",
      "The unconstrained solution is optimal.\n",
      "The unconstrained solution is optimal.\n",
      "The unconstrained solution is optimal.\n",
      "The unconstrained solution is optimal.\n",
      "The unconstrained solution is optimal.\n",
      "The unconstrained solution is optimal.\n"
     ]
    }
   ],
   "source": [
    "import os\n",
    "import numpy as np\n",
    "import scipy\n",
    "\n",
    "from setup_paths import *\n",
    "import visu_common\n",
    "import measurement\n",
    "\n",
    "mems = visu_common.get_mems(MEASUREMENTS_PATH)\n",
    "directions = ['s', 'r']\n",
    "meas_type = 'latency'\n",
    "\n",
    "identified_params = {}\n",
    "for mem in mems:\n",
    "    for direction in directions:\n",
    "        # here mem is the folder\n",
    "        clocks = visu_common.get_clocks_in_folder(\n",
    "            os.path.join(MEASUREMENTS_PATH, mem),\n",
    "            prefix=f'meas_{direction}_', clock_lambda=lambda m7, m4: m4 >= 60)\n",
    "\n",
    "        K_list = [] # matrix for the linear regression, \n",
    "        y_list = []\n",
    "        for i, (m7, m4) in enumerate(clocks):\n",
    "            dir_prefix = os.path.join(MEASUREMENTS_PATH, mem,\n",
    "                                      f'meas_{direction}_{m7}_{m4}')\n",
    "            sizes = sorted(visu_common.get_sizes(dir_prefix, size_lambda=lambda s: True))\n",
    "            # row vector of measurements for sizes\n",
    "            y = measurement.get_and_calc_meas(m4, dir_prefix, sizes, meas_type)\n",
    "            y_list.append(y[0, :]) # mean and column\n",
    "            K = np.hstack((1/m7*np.ones((len(sizes), 1)), # const part for sending\n",
    "                        1/m7*np.array(sizes).reshape(-1, 1), # size dependent part for sending\n",
    "                        1/m4*np.array(sizes).reshape(-1, 1),\n",
    "                        1/m4*np.ones((len(sizes), 1))))\n",
    "            K_list.append(K)\n",
    "            \n",
    "        K_matrix = np.vstack(K_list)\n",
    "        y_vector = np.hstack(y_list) # to column vector\n",
    "\n",
    "        res = scipy.optimize.lsq_linear(K_matrix, y_vector, bounds=(0, np.inf))\n",
    "        print(res.message)\n",
    "        # direction under mem in the dict\n",
    "        if mem in identified_params:\n",
    "            identified_params[mem][direction] = list(res.x)\n",
    "        else:\n",
    "            identified_params[mem] = {direction: list(res.x)}"
   ]
  },
  {
   "cell_type": "code",
   "execution_count": 6,
   "metadata": {},
   "outputs": [],
   "source": [
    "import json\n",
    "\n",
    "# Writing the result to file\n",
    "model_path = os.path.join(MEASUREMENTS_PATH, 'models_long.json')\n",
    "with open(model_path, 'w') as file:\n",
    "    json.dump(identified_params, file, indent=4)"
   ]
  },
  {
   "cell_type": "code",
   "execution_count": 2,
   "metadata": {},
   "outputs": [
    {
     "name": "stdout",
     "output_type": "stream",
     "text": [
      "{'D1': {'s': [1486.570274249926, 1.7548721648276562, 17.24149474496164, 4065.7778256745382], 'r': [2070.272755333509, 0.9122070304884353, 21.936315727596977, 3925.3498818438748]}, 'D1_idcache_mpu_ncacheable': {'s': [1182.4215698185028, 0.020687474910685566, 17.173270539610463, 3208.3130785318494], 'r': [2013.273084485079, 4.371506849919694, 19.933482545901697, 2156.8871523949615]}, 'D2': {'s': [1896.7327360833033, 2.2233230800377886, 12.223636355735017, 3597.260692039512], 'r': [1903.3245551420462, 4.905945466821722, 12.783284527198948, 3780.2402180705635]}, 'D2_icache': {'s': [1275.6711992294672, 3.4740439767743663, 11.444140137232534, 3778.6951597414127], 'r': [1829.644713063877, 4.8811903335682985, 12.766132031581837, 3335.0579092957882]}, 'D2_idcache_mpu_ncacheable': {'s': [1286.9674962558627, 2.856506043874644, 8.183183544622075, 2996.621416844765], 'r': [1982.523732708172, 4.74438593533417, 13.5807362528117, 1931.0064218103284]}, 'D2_idcache_mpu_wrth_nalloc': {'s': [1424.9350240923845, 2.8146694429279275, 8.193181065836072, 3033.733785538116], 'r': [1984.071761781901, 4.748099685446432, 13.580310999363176, 1934.206330062172]}, 'D3': {'s': [1551.9561111555229, 3.297393984701742, 12.589302753236716, 3921.6420627621046], 'r': [1857.959186268497, 3.794126323333572, 13.27519207629187, 3888.438972507124]}, 'D3_idcache_mpu_ncacheable': {'s': [967.5599620145482, 0.02928850658597959, 16.10338669403125, 3227.3001337531578], 'r': [1991.7459179265466, 4.376743623336409, 13.843141913830957, 2017.1596998250684]}, 'D3_idcache_mpu_ncacheable_release': {'s': [582.3477187687537, 0.02494473856132906, 16.067219284754287, 1949.867765191137], 'r': [1395.6370301655943, 4.3624557676838815, 13.808694580885033, 1123.6743832533061]}, 'D3_idcache_mpu_ncacheable_release_barrier': {'s': [1273.8618600742714, 8.042639291889799, 8.04263929325564, 1273.8618600742714], 'r': [1275.422426733899, 9.053774776275437, 9.053774777642781, 1275.422426733899]}}\n"
     ]
    }
   ],
   "source": [
    "print(identified_params)"
   ]
  }
 ],
 "metadata": {
  "kernelspec": {
   "display_name": "venv",
   "language": "python",
   "name": "python3"
  },
  "language_info": {
   "codemirror_mode": {
    "name": "ipython",
    "version": 3
   },
   "file_extension": ".py",
   "mimetype": "text/x-python",
   "name": "python",
   "nbconvert_exporter": "python",
   "pygments_lexer": "ipython3",
   "version": "3.10.11"
  },
  "orig_nbformat": 4
 },
 "nbformat": 4,
 "nbformat_minor": 2
}
