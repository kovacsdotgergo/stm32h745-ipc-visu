{
 "cells": [
  {
   "cell_type": "code",
   "execution_count": 9,
   "metadata": {},
   "outputs": [],
   "source": [
    "import measurement\n",
    "import visu_common\n",
    "import os\n",
    "import numpy as np\n",
    "\n",
    "mem = 'D2'\n",
    "direction = 's'\n",
    "meas_type = 'latency'\n",
    "\n",
    "clocks = visu_common.get_clocks_in_folder(\n",
    "    mem, prefix=f'meas_{direction}_', clock_lambda=lambda m7, m4: m4 >= 60)\n",
    "\n",
    "K_matrix = []\n",
    "y_measured = []\n",
    "for i, (m7, m4) in enumerate(clocks):\n",
    "    dir_prefix = os.path.join(mem, f'meas_{direction}_{m7}_{m4}')\n",
    "    sizes = sorted(visu_common.get_sizes(dir_prefix))\n",
    "    # row vector of measurements for sizes\n",
    "    y_measured.append(measurement.get_and_calc_meas(m4, dir_prefix, sizes, meas_type))\n",
    "    K = np.vstack((m7*np.ones((1, len(sizes))),\n",
    "                   m7*np.array(sizes),\n",
    "                   m4*np.array(sizes),\n",
    "                   m4*np.ones((1, len(sizes)))))\n",
    "    K_matrix.append(K)\n",
    "    \n"
   ]
  },
  {
   "cell_type": "code",
   "execution_count": 15,
   "metadata": {},
   "outputs": [
    {
     "name": "stdout",
     "output_type": "stream",
     "text": [
      "(280, 3)\n",
      "(280, 4)\n"
     ]
    }
   ],
   "source": [
    "print(np.hstack(y_measured).T.shape)\n",
    "print(np.hstack(K_matrix).T.shape)"
   ]
  }
 ],
 "metadata": {
  "kernelspec": {
   "display_name": "venv",
   "language": "python",
   "name": "python3"
  },
  "language_info": {
   "codemirror_mode": {
    "name": "ipython",
    "version": 3
   },
   "file_extension": ".py",
   "mimetype": "text/x-python",
   "name": "python",
   "nbconvert_exporter": "python",
   "pygments_lexer": "ipython3",
   "version": "3.10.11"
  },
  "orig_nbformat": 4
 },
 "nbformat": 4,
 "nbformat_minor": 2
}
