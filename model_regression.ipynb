{
 "cells": [
  {
   "cell_type": "code",
   "execution_count": 20,
   "metadata": {},
   "outputs": [],
   "source": [
    "import measurement\n",
    "import visu_common\n",
    "import os\n",
    "import numpy as np\n",
    "import scipy\n",
    "\n",
    "mems = visu_common.get_mems('.')\n",
    "directions = ['s', 'r']\n",
    "meas_type = 'latency'\n",
    "\n",
    "identified_params = {}\n",
    "for mem in mems:\n",
    "    for direction in directions:\n",
    "        # here mem is the folder\n",
    "        clocks = visu_common.get_clocks_in_folder(\n",
    "            mem, prefix=f'meas_{direction}_', clock_lambda=lambda m7, m4: m4 >= 60)\n",
    "\n",
    "        K_list = [] # matrix for the linear regression, \n",
    "        y_list = []\n",
    "        for i, (m7, m4) in enumerate(clocks):\n",
    "            dir_prefix = os.path.join(mem, f'meas_{direction}_{m7}_{m4}')\n",
    "            sizes = sorted(visu_common.get_sizes(dir_prefix, size_lambda=lambda size: size<260))\n",
    "            # row vector of measurements for sizes\n",
    "            y = measurement.get_and_calc_meas(m4, dir_prefix, sizes, meas_type)\n",
    "            y_list.append(y[0, :]) # mean and column\n",
    "            K = np.hstack((1/m7*np.ones((len(sizes), 1)), # const part for sending\n",
    "                        1/m7*np.array(sizes).reshape(-1, 1), # size dependent part for sending\n",
    "                        1/m4*np.array(sizes).reshape(-1, 1),\n",
    "                        1/m4*np.ones((len(sizes), 1))))\n",
    "            K_list.append(K)\n",
    "            \n",
    "        K_matrix = np.vstack(K_list)\n",
    "        y_vector = np.hstack(y_list) # to column vector\n",
    "\n",
    "        res = scipy.optimize.lsq_linear(K_matrix, y_vector, bounds=(0, np.inf))\n",
    "        if mem in identified_params:\n",
    "            identified_params[mem][direction] = list(res.x)\n",
    "        else:\n",
    "            identified_params[mem] = {direction: list(res.x)}"
   ]
  },
  {
   "cell_type": "code",
   "execution_count": 21,
   "metadata": {},
   "outputs": [],
   "source": [
    "import json\n",
    "\n",
    "with open('models.json', 'w') as file:\n",
    "    json.dump(identified_params, file, indent=4)"
   ]
  }
 ],
 "metadata": {
  "kernelspec": {
   "display_name": "venv",
   "language": "python",
   "name": "python3"
  },
  "language_info": {
   "codemirror_mode": {
    "name": "ipython",
    "version": 3
   },
   "file_extension": ".py",
   "mimetype": "text/x-python",
   "name": "python",
   "nbconvert_exporter": "python",
   "pygments_lexer": "ipython3",
   "version": "3.10.11"
  },
  "orig_nbformat": 4
 },
 "nbformat": 4,
 "nbformat_minor": 2
}
